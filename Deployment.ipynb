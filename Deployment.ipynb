{
 "cells": [
  {
   "cell_type": "code",
   "execution_count": 1,
   "id": "a820e7d2",
   "metadata": {
    "ExecuteTime": {
     "end_time": "2023-12-15T21:27:13.194734900Z",
     "start_time": "2023-12-15T21:27:08.886650700Z"
    }
   },
   "outputs": [
    {
     "name": "stderr",
     "output_type": "stream",
     "text": [
      "[nltk_data] Downloading package vader_lexicon to\n",
      "[nltk_data]     C:\\Users\\Lenovo\\AppData\\Roaming\\nltk_data...\n",
      "[nltk_data]   Package vader_lexicon is already up-to-date!\n"
     ]
    }
   ],
   "source": [
    "import joblib\n",
    "import numpy as np\n",
    "import textstat\n",
    "import nltk\n",
    "nltk.download('vader_lexicon')\n",
    "from nltk.sentiment import SentimentIntensityAnalyzer\n",
    "sia = SentimentIntensityAnalyzer()\n",
    "from textstat import flesch_reading_ease, gunning_fog\n",
    "from textblob import TextBlob\n",
    "import datetime\n",
    "import warnings\n",
    "warnings.filterwarnings('ignore', category=UserWarning)\n",
    "\n",
    "rf_model = joblib.load('./model/random_forest_model.joblib')"
   ]
  },
  {
   "cell_type": "code",
   "execution_count": 2,
   "id": "88ed923d",
   "metadata": {
    "ExecuteTime": {
     "end_time": "2023-12-15T21:27:23.355918Z",
     "start_time": "2023-12-15T21:27:23.322252100Z"
    }
   },
   "outputs": [],
   "source": [
    "def main():\n",
    "    # User inputs\n",
    "    score = input(\"Enter the score: \")\n",
    "    score = int(score)\n",
    "    summary = input(\"Enter the summary: \")\n",
    "    text = input(\"Enter the text: \")\n",
    "\n",
    "    # Calculations\n",
    "    text_length = minmax_scale_input(len(text),19,25738)\n",
    "    summary_length = minmax_scale_input(len(summary),0,128)\n",
    "    \n",
    "    # You can fill in the functions to calculate these values\n",
    "    Vader_text = VaderPrediction(text)\n",
    "    Vader_sum = VaderPrediction(summary)\n",
    "    text_neg = Vader_text['neg']\n",
    "    text_neu = Vader_text['neu']\n",
    "    text_pos = Vader_text['pos']\n",
    "    text_compound_score = Vader_text['compound']\n",
    "    sum_neg = Vader_sum['neg']\n",
    "    sum_neu = Vader_sum['neu']\n",
    "    sum_pos = Vader_sum['pos']\n",
    "    sum_compound_score = Vader_sum['compound']\n",
    "    \n",
    "    \n",
    "    flesch_reading_ease = minmax_scale_input(textstat.flesch_reading_ease(text),-257.73,119.19)\n",
    "    gunning_fog = minmax_scale_input(textstat.gunning_fog(text),1.2,138.39)\n",
    "    avg_word_length_summary = minmax_scale_input(average_word_length(summary),0,114)\n",
    "    avg_word_length_text = minmax_scale_input(average_word_length(text),2,26)\n",
    "    subjectivity_summary = calculate_subjectivity(summary)\n",
    "    subjectivity_text = calculate_subjectivity(text)\n",
    "    ttr_text = type_token_ratio(text)\n",
    "    if_weekday_1 = is_weekday()\n",
    "    if_weekday_0 = switch_input(if_weekday_1)\n",
    "    features = [\n",
    "    score, text_length, summary_length, text_neg, text_neu, text_pos,\n",
    "    text_compound_score, sum_neg, sum_neu, sum_pos, sum_compound_score,\n",
    "    flesch_reading_ease, gunning_fog, avg_word_length_summary,\n",
    "    avg_word_length_text, subjectivity_summary, subjectivity_text, \n",
    "    ttr_text, if_weekday_0, if_weekday_1\n",
    "]\n",
    "\n",
    "    X = np.array(features).reshape(1, -1)\n",
    "    predictions = rf_model.predict(X)\n",
    "    if predictions == 0:\n",
    "        print('Model Prediction: This review might not be helpful...')\n",
    "    else:\n",
    "        print('Model Prediction: This review is likely to be helpful!')\n",
    "        \n",
    "        \n",
    "    return 0\n",
    "\n",
    "    \n",
    "def minmax_scale_input(input_data, min_val, max_val):\n",
    "    return (input_data - min_val) / (max_val - min_val)\n",
    "\n",
    "def average_word_length(text):\n",
    "    words = text.split()\n",
    "    if len(words) == 0:\n",
    "        return 0\n",
    "    return sum(len(word) for word in words) / len(words)\n",
    "\n",
    "def calculate_subjectivity(text):\n",
    "    return TextBlob(text).sentiment.subjectivity\n",
    "\n",
    "def type_token_ratio(text):\n",
    "    tokens = text.split()\n",
    "    types = set(tokens)\n",
    "    if len(tokens) == 0:\n",
    "        return 0  # Avoid division by zero\n",
    "    return len(types) / len(tokens)\n",
    "\n",
    "def is_weekday():\n",
    "    today = datetime.datetime.now()\n",
    "    return 1 if 0 <= today.weekday() < 5 else 0\n",
    "\n",
    "def switch_input(input_value):\n",
    "    return 1 if input_value == 0 else 0\n",
    "\n",
    "def VaderPrediction(text):\n",
    "    return sia.polarity_scores(text)    "
   ]
  },
  {
   "cell_type": "code",
   "execution_count": 3,
   "id": "b4d38ce3",
   "metadata": {
    "ExecuteTime": {
     "end_time": "2023-12-15T21:27:29.323787700Z",
     "start_time": "2023-12-15T21:27:25.752603500Z"
    }
   },
   "outputs": [
    {
     "name": "stdout",
     "output_type": "stream",
     "text": [
      "Enter the score: 2\n",
      "Enter the summary: what\n",
      "Enter the text: I ate a sandwich tonight and it was good.\n",
      "Model Prediction: This review might not be helpful...\n"
     ]
    }
   ],
   "source": [
    "if __name__ == \"__main__\":\n",
    "    main()"
   ]
  },
  {
   "cell_type": "code",
   "execution_count": 4,
   "id": "89a5d0d0",
   "metadata": {},
   "outputs": [
    {
     "name": "stdout",
     "output_type": "stream",
     "text": [
      "Enter the score: 5\n",
      "Enter the summary:  \"The Timeless Journey\" is a visually stunning science fiction drama that explores the themes of love, loss, and the human connection across time. Set in a future where time travel is possible, the film follows the story of Ella, a scientist who embarks on a journey to the past to prevent a global catastrophe. Along the way, she encounters versions of her loved ones, leading to poignant reflections on her life choices and relationships.\n",
      "Enter the text:  This film is a mesmerizing blend of thought-provoking narrative and breathtaking cinematography. The director skillfully intertwines complex scientific concepts with deeply human emotions, making the story both intellectually stimulating and emotionally resonant. The lead, played by Alex Rivera, delivers a powerful performance, capturing the essence of a person torn between her professional mission and personal desires. The visual effects are top-notch, creating a believable yet fantastical world of time travel. The pacing is well-balanced, ensuring the story remains engaging without overwhelming the audience with technical details. The soundtrack complements the film's mood perfectly, enhancing both the dramatic and tender moments. However, some viewers might find the plot twists a bit predictable. Overall, \"The Timeless Journey\" is a must-watch for fans of science fiction and dramas that explore the depths of human emotions. It's a thought-provoking film that stays with you long after the credits roll.\n",
      "Model Prediction: This review is likely to be helpful!\n"
     ]
    }
   ],
   "source": [
    "if __name__ == \"__main__\":\n",
    "    main()"
   ]
  },
  {
   "cell_type": "code",
   "execution_count": null,
   "id": "fbfac662",
   "metadata": {},
   "outputs": [],
   "source": []
  }
 ],
 "metadata": {
  "kernelspec": {
   "display_name": "Python 3 (ipykernel)",
   "language": "python",
   "name": "python3"
  },
  "language_info": {
   "codemirror_mode": {
    "name": "ipython",
    "version": 3
   },
   "file_extension": ".py",
   "mimetype": "text/x-python",
   "name": "python",
   "nbconvert_exporter": "python",
   "pygments_lexer": "ipython3",
   "version": "3.10.9"
  }
 },
 "nbformat": 4,
 "nbformat_minor": 5
}
